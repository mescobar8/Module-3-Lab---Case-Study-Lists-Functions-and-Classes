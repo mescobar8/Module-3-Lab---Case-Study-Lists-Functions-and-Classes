{
 "cells": [
  {
   "cell_type": "code",
   "execution_count": 3,
   "id": "23fdb1a7-7634-4d22-864a-2011653ef30a",
   "metadata": {},
   "outputs": [
    {
     "name": "stdin",
     "output_type": "stream",
     "text": [
      "Enter the year of the car:  2000\n",
      "Enter the make of the car:  Toyota\n",
      "Enter the model of the car:  Rav4\n",
      "Enter the number of doors (2 or 4):  4\n",
      "Enter the type of roof (solid or sun roof):  solid\n"
     ]
    },
    {
     "name": "stdout",
     "output_type": "stream",
     "text": [
      "Vehicle type: car\n",
      "Year: 2000\n",
      "Make: Toyota\n",
      "Model: Rav4\n",
      "Number of doors: 4\n",
      "Type of roof: solid\n"
     ]
    }
   ],
   "source": [
    "#Maria Escobar\n",
    "#Module 3 Lab - Case Study: Lists, Functions, and Classes\n",
    "# The purpose of this progra is to input data of the car in a clear way and output the data in an easy-to-read and understandable format,\n",
    "\n",
    "# Superclass Vehicle\n",
    "class Vehicle:\n",
    "    def __init__(self, vehicle_type):\n",
    "        self.vehicle_type = vehicle_type  # Attribute for the vehicle type (car, truck, etc.)\n",
    "\n",
    "# Subclass Automobile inheriting from Vehicle\n",
    "class Automobile(Vehicle):\n",
    "    def __init__(self, vehicle_type, year, make, model, doors, roof):\n",
    "        super().__init__(vehicle_type)  # Call the parent class constructor to initialize vehicle type\n",
    "        self.year = year                # The year of the automobile\n",
    "        self.make = make                # The make of the automobile (e.g., Toyota)\n",
    "        self.model = model              # The model of the automobile (e.g., Corolla)\n",
    "        self.doors = doors              # Number of doors (either 2 or 4)\n",
    "        self.roof = roof                # Type of roof (either 'solid' or 'sun roof')\n",
    "\n",
    "    def display_info(self):\n",
    "        # Display the automobile details in an easy-to-read format\n",
    "        print(f\"Vehicle type: {self.vehicle_type}\")\n",
    "        print(f\"Year: {self.year}\")\n",
    "        print(f\"Make: {self.make}\")\n",
    "        print(f\"Model: {self.model}\")\n",
    "        print(f\"Number of doors: {self.doors}\")\n",
    "        print(f\"Type of roof: {self.roof}\")\n",
    "\n",
    "# Main application that takes user input\n",
    "def main():\n",
    "    # Input the vehicle type as 'car' for this assignment\n",
    "    vehicle_type = \"car\"\n",
    "    \n",
    "    # Ask the user for the car details\n",
    "    year = input(\"Enter the year of the car: \")\n",
    "    make = input(\"Enter the make of the car: \")\n",
    "    model = input(\"Enter the model of the car: \")\n",
    "    doors = input(\"Enter the number of doors (2 or 4): \")\n",
    "    roof = input(\"Enter the type of roof (solid or sun roof): \")\n",
    "    \n",
    "    # Create an Automobile object with the user's input\n",
    "    car = Automobile(vehicle_type, year, make, model, doors, roof)\n",
    "    \n",
    "    # Display the car information\n",
    "    car.display_info()\n",
    "\n",
    "# Call the main function to run the app\n",
    "if __name__ == \"__main__\":\n",
    "    main()\n"
   ]
  },
  {
   "cell_type": "code",
   "execution_count": null,
   "id": "2435cc58-3b7f-4a29-a27d-6bd981da13d2",
   "metadata": {},
   "outputs": [],
   "source": []
  }
 ],
 "metadata": {
  "kernelspec": {
   "display_name": "Python 3 (ipykernel)",
   "language": "python",
   "name": "python3"
  },
  "language_info": {
   "codemirror_mode": {
    "name": "ipython",
    "version": 3
   },
   "file_extension": ".py",
   "mimetype": "text/x-python",
   "name": "python",
   "nbconvert_exporter": "python",
   "pygments_lexer": "ipython3",
   "version": "3.12.7"
  }
 },
 "nbformat": 4,
 "nbformat_minor": 5
}
